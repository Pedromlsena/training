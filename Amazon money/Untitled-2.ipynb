{
 "metadata": {
  "language_info": {
   "codemirror_mode": {
    "name": "ipython",
    "version": 3
   },
   "file_extension": ".py",
   "mimetype": "text/x-python",
   "name": "python",
   "nbconvert_exporter": "python",
   "pygments_lexer": "ipython3",
   "version": "3.8.6-final"
  },
  "orig_nbformat": 2,
  "kernelspec": {
   "name": "python3",
   "display_name": "Python 3.8.6 64-bit",
   "metadata": {
    "interpreter": {
     "hash": "d2bdbd354d59138a72493c89e6f4d68a7f3b90ea392e28c69bd8b51aafc79bd1"
    }
   }
  }
 },
 "nbformat": 4,
 "nbformat_minor": 2,
 "cells": [
  {
   "cell_type": "code",
   "execution_count": 9,
   "metadata": {},
   "outputs": [
    {
     "output_type": "execute_result",
     "data": {
      "text/plain": [
       "  Order Date             Order ID Payment Instrument Type     Website  \\\n",
       "0   04/01/19  112-0000000-0000001             Visa - 0001  Amazon.com   \n",
       "1   04/01/19  112-0000000-0000002             Visa - 0001  Amazon.com   \n",
       "2   04/01/19  112-0000000-0000003             Visa - 0001  Amazon.com   \n",
       "3   04/04/19  112-0000000-0000004             Visa - 0001  Amazon.com   \n",
       "4   04/05/19  112-0000000-0000005             Visa - 0001  Amazon.com   \n",
       "\n",
       "   Purchase Order Number Ordering Customer Email Shipment Date  \\\n",
       "0                    0.0    your_email@gmail.com      04/01/19   \n",
       "1                    0.0    your_email@gmail.com      04/01/19   \n",
       "2                    0.0    your_email@gmail.com      04/01/19   \n",
       "3                    0.0    your_email@gmail.com      04/05/19   \n",
       "4                    0.0    your_email@gmail.com      04/07/19   \n",
       "\n",
       "  Shipping Address Name Shipping Address Street 1  Shipping Address Street 2  \\\n",
       "0             Your Name             1 YOUR STREET                        0.0   \n",
       "1             Your Name             1 YOUR STREET                        0.0   \n",
       "2             Your Name             1 YOUR STREET                        0.0   \n",
       "3             Your Name             1 YOUR STREET                        0.0   \n",
       "4             Your Name             1 YOUR STREET                        0.0   \n",
       "\n",
       "   ... Order Status Carrier Name & Tracking Number Subtotal Shipping Charge  \\\n",
       "0  ...      Shipped                     USPS(0001)   $35.00           $0.00   \n",
       "1  ...      Shipped                     USPS(0001)   $16.99           $0.00   \n",
       "2  ...      Shipped                     USPS(0001)    $9.99           $0.00   \n",
       "3  ...      Shipped                      UPS(0002)  $147.98           $0.00   \n",
       "4  ...      Shipped                     USPS(0001)   $14.99           $0.00   \n",
       "\n",
       "  Tax Before Promotions Total Promotions Tax Charged Total Charged Buyer Name  \\\n",
       "0                 $1.93            $0.00       $1.93        $36.93  Your Name   \n",
       "1                 $0.00            $0.00       $0.00        $16.99  Your Name   \n",
       "2                 $0.00            $0.00       $0.00         $9.99  Your Name   \n",
       "3                 $8.14            $0.00       $8.14       $156.12  Your Name   \n",
       "4                 $0.00            $0.00       $0.00        $14.99  Your Name   \n",
       "\n",
       "  Group Name  \n",
       "0        0.0  \n",
       "1        0.0  \n",
       "2        0.0  \n",
       "3        0.0  \n",
       "4        0.0  \n",
       "\n",
       "[5 rows x 23 columns]"
      ],
      "text/html": "<div>\n<style scoped>\n    .dataframe tbody tr th:only-of-type {\n        vertical-align: middle;\n    }\n\n    .dataframe tbody tr th {\n        vertical-align: top;\n    }\n\n    .dataframe thead th {\n        text-align: right;\n    }\n</style>\n<table border=\"1\" class=\"dataframe\">\n  <thead>\n    <tr style=\"text-align: right;\">\n      <th></th>\n      <th>Order Date</th>\n      <th>Order ID</th>\n      <th>Payment Instrument Type</th>\n      <th>Website</th>\n      <th>Purchase Order Number</th>\n      <th>Ordering Customer Email</th>\n      <th>Shipment Date</th>\n      <th>Shipping Address Name</th>\n      <th>Shipping Address Street 1</th>\n      <th>Shipping Address Street 2</th>\n      <th>...</th>\n      <th>Order Status</th>\n      <th>Carrier Name &amp; Tracking Number</th>\n      <th>Subtotal</th>\n      <th>Shipping Charge</th>\n      <th>Tax Before Promotions</th>\n      <th>Total Promotions</th>\n      <th>Tax Charged</th>\n      <th>Total Charged</th>\n      <th>Buyer Name</th>\n      <th>Group Name</th>\n    </tr>\n  </thead>\n  <tbody>\n    <tr>\n      <th>0</th>\n      <td>04/01/19</td>\n      <td>112-0000000-0000001</td>\n      <td>Visa - 0001</td>\n      <td>Amazon.com</td>\n      <td>0.0</td>\n      <td>your_email@gmail.com</td>\n      <td>04/01/19</td>\n      <td>Your Name</td>\n      <td>1 YOUR STREET</td>\n      <td>0.0</td>\n      <td>...</td>\n      <td>Shipped</td>\n      <td>USPS(0001)</td>\n      <td>$35.00</td>\n      <td>$0.00</td>\n      <td>$1.93</td>\n      <td>$0.00</td>\n      <td>$1.93</td>\n      <td>$36.93</td>\n      <td>Your Name</td>\n      <td>0.0</td>\n    </tr>\n    <tr>\n      <th>1</th>\n      <td>04/01/19</td>\n      <td>112-0000000-0000002</td>\n      <td>Visa - 0001</td>\n      <td>Amazon.com</td>\n      <td>0.0</td>\n      <td>your_email@gmail.com</td>\n      <td>04/01/19</td>\n      <td>Your Name</td>\n      <td>1 YOUR STREET</td>\n      <td>0.0</td>\n      <td>...</td>\n      <td>Shipped</td>\n      <td>USPS(0001)</td>\n      <td>$16.99</td>\n      <td>$0.00</td>\n      <td>$0.00</td>\n      <td>$0.00</td>\n      <td>$0.00</td>\n      <td>$16.99</td>\n      <td>Your Name</td>\n      <td>0.0</td>\n    </tr>\n    <tr>\n      <th>2</th>\n      <td>04/01/19</td>\n      <td>112-0000000-0000003</td>\n      <td>Visa - 0001</td>\n      <td>Amazon.com</td>\n      <td>0.0</td>\n      <td>your_email@gmail.com</td>\n      <td>04/01/19</td>\n      <td>Your Name</td>\n      <td>1 YOUR STREET</td>\n      <td>0.0</td>\n      <td>...</td>\n      <td>Shipped</td>\n      <td>USPS(0001)</td>\n      <td>$9.99</td>\n      <td>$0.00</td>\n      <td>$0.00</td>\n      <td>$0.00</td>\n      <td>$0.00</td>\n      <td>$9.99</td>\n      <td>Your Name</td>\n      <td>0.0</td>\n    </tr>\n    <tr>\n      <th>3</th>\n      <td>04/04/19</td>\n      <td>112-0000000-0000004</td>\n      <td>Visa - 0001</td>\n      <td>Amazon.com</td>\n      <td>0.0</td>\n      <td>your_email@gmail.com</td>\n      <td>04/05/19</td>\n      <td>Your Name</td>\n      <td>1 YOUR STREET</td>\n      <td>0.0</td>\n      <td>...</td>\n      <td>Shipped</td>\n      <td>UPS(0002)</td>\n      <td>$147.98</td>\n      <td>$0.00</td>\n      <td>$8.14</td>\n      <td>$0.00</td>\n      <td>$8.14</td>\n      <td>$156.12</td>\n      <td>Your Name</td>\n      <td>0.0</td>\n    </tr>\n    <tr>\n      <th>4</th>\n      <td>04/05/19</td>\n      <td>112-0000000-0000005</td>\n      <td>Visa - 0001</td>\n      <td>Amazon.com</td>\n      <td>0.0</td>\n      <td>your_email@gmail.com</td>\n      <td>04/07/19</td>\n      <td>Your Name</td>\n      <td>1 YOUR STREET</td>\n      <td>0.0</td>\n      <td>...</td>\n      <td>Shipped</td>\n      <td>USPS(0001)</td>\n      <td>$14.99</td>\n      <td>$0.00</td>\n      <td>$0.00</td>\n      <td>$0.00</td>\n      <td>$0.00</td>\n      <td>$14.99</td>\n      <td>Your Name</td>\n      <td>0.0</td>\n    </tr>\n  </tbody>\n</table>\n<p>5 rows × 23 columns</p>\n</div>"
     },
     "metadata": {},
     "execution_count": 9
    }
   ],
   "source": [
    "import pandas as pd\n",
    "\n",
    "df = pd.read_csv('amazon-orders.csv'),\n",
    "df = df.fillna(0)\n",
    "df.head()"
   ]
  },
  {
   "cell_type": "code",
   "execution_count": null,
   "metadata": {},
   "outputs": [],
   "source": []
  }
 ]
}